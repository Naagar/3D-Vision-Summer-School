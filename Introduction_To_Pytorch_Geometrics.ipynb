{
  "nbformat": 4,
  "nbformat_minor": 0,
  "metadata": {
    "colab": {
      "name": "Introduction_To_Pytorch_Geometrics.ipynb",
      "provenance": []
    },
    "kernelspec": {
      "name": "python3",
      "display_name": "Python 3"
    },
    "language_info": {
      "name": "python"
    }
  },
  "cells": [
    {
      "cell_type": "markdown",
      "source": [
        "# Introduction to PyTorch Geometric\n",
        "\n",
        "> PyTorch Geometric (PyG) is a library built upon PyTorch to easily write and train Graph Neural Networks (GNNs) for a wide range of applications related to structured data.\n",
        "\n",
        "> It consists of various methods for deep learning on graphs and other irregular structures, also known as geometric deep learning, from a variety of published papers. In addition, it consists of easy-to-use mini-batch loaders for operating on many small and single giant graphs, multi GPU-support, distributed graph learning via Quiver, a large number of common benchmark datasets (based on simple interfaces to create your own), the GraphGym experiment manager, and helpful transforms, both for learning on arbitrary graphs as well as on 3D meshes or point clouds.\n",
        "\n",
        "Source: https://pytorch-geometric.readthedocs.io/en/latest/\n",
        "\n",
        "This tutorial assumes prior rudimentary understanding of PyTorch. In this tutorial, we will understand how PyTorch Geometric handles graph data and relate to familiar concepts from PyTorch (such as Datasets and Dataloaders).\n",
        "\n",
        "Material inspired by official [PyG tutorials](https://pytorch-geometric.readthedocs.io/en/latest/notes/introduction.html)"
      ],
      "metadata": {
        "id": "b2cl8oX3Eg91"
      }
    },
    {
      "cell_type": "markdown",
      "source": [
        "### Outline\n",
        "\n",
        "**Part I:**\n",
        "\n",
        "- Representation of graphs (10mins)\n",
        "  - Handling graph data\n",
        "- Exploring datasets (5mins)\n",
        "  - Cora\n",
        "  - ENZYMES\n",
        "- Minibatching and Dataloaders (5mins)\n",
        "- Data Transforms (5mins)\n",
        "  - ModelNet: mesh-to-pointcloud, mesh-to-graph\n",
        "\n",
        "**Part II:**\n",
        "\n",
        "- Recap of Graph Neural Networks (10mins)\n",
        "\n",
        "**Part III:**\n",
        "\n",
        "- Layer Implementation (10mins)\n",
        "  - GCN\n",
        "  - EdgeConv\n",
        "- Node classification on Cora (10mins)"
      ],
      "metadata": {
        "id": "Tl0KybrId3yk"
      }
    },
    {
      "cell_type": "code",
      "source": [
        "!pip uninstall -y torch-scatter torch-sparse torch-cluster torch-spline-conv torch-geometric\n",
        "!pip install torch-scatter torch-sparse torch-cluster torch-spline-conv torch-geometric -f https://data.pyg.org/whl/torch-1.11.0+cu113.html\n",
        "\n",
        "!pip install trimesh"
      ],
      "metadata": {
        "id": "P8EVy0P6tjGu"
      },
      "execution_count": null,
      "outputs": []
    },
    {
      "cell_type": "code",
      "source": [
        "!import inspect\n",
        "import numpy as np\n",
        "\n",
        "import torch\n",
        "import torch.nn as nn\n",
        "import torch.nn.functional as F\n",
        "\n",
        "import torch_geometric\n",
        "\n",
        "from torch_geometric.data import Data\n",
        "\n",
        "import trimesh"
      ],
      "metadata": {
        "id": "aWkQSNC7FA_U"
      },
      "execution_count": null,
      "outputs": []
    },
    {
      "cell_type": "code",
      "source": [
        "device = torch.device('cuda' if torch.cuda.is_available() else 'cpu')\n",
        "print(\"device:\", device)"
      ],
      "metadata": {
        "id": "dBkFALDRhZfl"
      },
      "execution_count": null,
      "outputs": []
    },
    {
      "cell_type": "markdown",
      "source": [
        "# Representation of graphs\n",
        "\n",
        "A graph $\\mathbf{G}$ consists of a set of nodes $\\mathbf{V} = \\{V_1, V_2, \\ldots, V_n\\}$ and a set of edges $\\mathbf{I} \\subseteq \\mathbf{V} \\times \\mathbf{V}$. Let the number of nodes and edges in the graph be denoted by $N$ and $M$ respectively.\n",
        "\n",
        "Every node $v_i$ can be represented by a vector of node features $x_i$. The node features can be stacked to form a matrix $\\mathbf{X}$.\n",
        "\n",
        "$$\\mathbf{X} = (x_1, x_2, \\ldots, x_N)^\\mathbf{T}$$\n",
        "\n",
        "Every edge can be represented with a set of features $e_i$. The edge features can be stacked to form a matrix $\\mathbf{E}$.\n",
        "\n",
        "$$\\mathbf{\\mathbf{E}} = (e_1, e_2, \\ldots, e_M)^\\mathbf{T}$$\n",
        "\n",
        "Not all graphs have both node features and edge features; some have both and some have only one of them.\n",
        "\n",
        "Note that by stacking node features into a matrix, we're implicitly ordering the nodes (\"first\" row represents the \"first\" node's feature vector). Although we have an ordering in our representation, the functions (like neural network layers) that operate on these numerical representations will be invariant (like pooling operating) or equivariant (like graph convolution) to the ordering of the nodes.\n",
        "\n",
        "**Permutation invariant operation (without edge features):**\n",
        "\n",
        "The result of the function does not change on reordering, i.e. it is invariant to the order.\n",
        "\n",
        "$f(\\mathbf{PX}, \\mathbf{PAP^T}) = f(\\mathbf{X}, \\mathbf{A})$\n",
        "\n",
        "where $\\mathbf{P}$ is a [permutation matrix](https://en.wikipedia.org/wiki/Permutation_matrix) and $\\mathbf{A}$ is the [adjacency matrix](https://en.wikipedia.org/wiki/Adjacency_matrix).\n",
        "\n",
        "**Permutation equivariant operation (without edge features):**\n",
        "\n",
        "Reordering the nodes in the arguments result in the same reordering of results of otherwise identical result.\n",
        "\n",
        "$f(\\mathbf{PX}, \\mathbf{PAP^T}) = Pf(\\mathbf{X}, \\mathbf{A})$\n",
        "\n",
        "where $\\mathbf{P}$ is a [permutation matrix](https://en.wikipedia.org/wiki/Permutation_matrix) and $\\mathbf{A}$ is the [adjacency matrix](https://en.wikipedia.org/wiki/Adjacency_matrix)."
      ],
      "metadata": {
        "id": "jZvLbwRxGhH5"
      }
    },
    {
      "cell_type": "markdown",
      "source": [
        "# Handling graph data in PyG\n",
        "\n",
        "A graph in PyG is represented by an instance of [`torch_geometric.data.Data`](https://pytorch-geometric.readthedocs.io/en/latest/modules/data.html#torch_geometric.data.Data). `Data` objects have the following attributes:\n",
        "\n",
        "```\n",
        "data.x: node feature matrix of shape [num_nodes, num_node_features]\n",
        "data.edge_index: matrix of edge (u, v) transposed; [2, num_edges]\n",
        "data.edge_attr: edge features of shape [num_edges, num_edge_features]\n",
        "data.y: target for the graph; this can be single value or per-node value\n",
        "```\n",
        "\n",
        "> None of these attributes are required. In fact, the `Data` object is not even restricted to these attributes. We can, e.g., extend it by `data.face` to save the connectivity of triangles from a 3D mesh in a tensor with shape `[3, num_faces]` and type `torch.long`.\n",
        "\n",
        "Source: https://pytorch-geometric.readthedocs.io/en/latest/notes/introduction.html"
      ],
      "metadata": {
        "id": "KDFuVp75GsQw"
      }
    },
    {
      "cell_type": "markdown",
      "source": [
        "### Example\n",
        "\n",
        "We have to construct the `Data` object that describes the graph given below. A node ordering for the representation is provided inside the *node*. The node features $x_i$ are explicitly marked. There are no edge features.\n",
        "\n",
        "![Screenshot from 2022-02-23 15-47-07.png](data:image/png;base64,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)"
      ],
      "metadata": {
        "id": "sFW7KWVzGwyp"
      }
    },
    {
      "cell_type": "code",
      "source": [
        "# the given graph is an undirected graph; we must add an entry for each direction of the edge\n",
        "edge_index = torch.tensor([\n",
        "    [0, 1, 1, 2],\n",
        "    [1, 0, 2, 1]], dtype=torch.long\n",
        ")\n",
        "\n",
        "# same as above but here you use a list of edge tuples\n",
        "edge_index = torch.tensor([[0, 1],\n",
        "                           [1, 0],\n",
        "                           [1, 2],\n",
        "                           [2, 1]], dtype=torch.long).T\n",
        "\n",
        "x = torch.tensor([[-1], [0], [1]], dtype=torch.float32)\n",
        "\n",
        "data = Data(x=x, edge_index=edge_index)\n",
        "print(data)"
      ],
      "metadata": {
        "id": "brL7Y-jpGr-B"
      },
      "execution_count": null,
      "outputs": []
    },
    {
      "cell_type": "code",
      "source": [
        "print(\"data keys:\", data.keys)\n",
        "print(\"node features:\", data['x'])\n",
        "print()\n",
        "\n",
        "print(\"are there edge features:\", \"edge_attr\" in data)\n",
        "print(\"number of nodes:\", data.num_nodes)\n",
        "print(\"number of edges:\", data.num_edges)\n",
        "print(\"number of node features:\", data.num_node_features)\n",
        "print(\"number of edge features:\", data.num_edge_features)\n",
        "print()\n",
        "\n",
        "print(\"isolated nodes:\", data.has_isolated_nodes())\n",
        "print(\"self loops:\", data.has_self_loops())\n",
        "print(\"is directed graph:\", data.is_directed())"
      ],
      "metadata": {
        "id": "kYcDTTdeGkH1"
      },
      "execution_count": null,
      "outputs": []
    },
    {
      "cell_type": "markdown",
      "source": [
        "### Practice Problem\n",
        "\n",
        "**Formulation:** We're training a graph neural network to regress the formation energy of small molecules. Suppose our atom vocabulary consists of two atoms: `{N, H}`. Let us represent the node features of the two atoms with one-hot encoding: `N` and `H` be represented by `(0, 1)` and `(1, 0)` respectively. The edge features will have the bond length.\n",
        "\n",
        "**Question:** Construct a `Data` object for $N_2H_4$ molecule (image given below) based on the given description. The bond length of the `N-N` and `N-H` bonds are `0.147 nm` and `0.1nm` respectively. The formation energy of the molecule is `110 kj/mol`.\n",
        "\n",
        "![untitled.png](data:image/png;base64,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)\n",
        "\n"
      ],
      "metadata": {
        "id": "Q_7jAai7G73F"
      }
    },
    {
      "cell_type": "code",
      "source": [
        "### YOUR CODE BEGINS HERE\n",
        "# 1. construct the edge index matrix\n",
        "# 2. construct the node features matrix\n",
        "# 3. construct the edge features matrix (see edge_attr attribute; scroll up)\n",
        "# 4. construct the target matrix\n",
        "# 5. create a `Data` object by invoking its constructor\n",
        "### YOUR CODE ENDS HERE\n",
        "\n",
        "### YOUR CODE BEGINS HERE\n",
        "# print the data object and verify that the attributes and shapes makes sense\n",
        "### YOUR CODE ENDS HERE"
      ],
      "metadata": {
        "id": "XAUOIasBHB9q"
      },
      "execution_count": null,
      "outputs": []
    },
    {
      "cell_type": "markdown",
      "source": [
        "# Exploring common datasets\n",
        "\n",
        "Just like `torch.utils.data.Dataset`, PyG datasets classes are derived from [`torch_geometric.data.Dataset`](https://pytorch-geometric.readthedocs.io/en/latest/modules/data.html#torch_geometric.data.Dataset) (which in turn derive from `torch.utils.data.Dataset)`. PyG provides a lot of common datasets off the shelf. "
      ],
      "metadata": {
        "id": "rlHIB_gaGNrc"
      }
    },
    {
      "cell_type": "markdown",
      "source": [
        "### Cora\n",
        "\n",
        "This dataset consists of a single citation network graph. The nodes are scientific publications and edges are citations. There are 2708 nodes and 5429 edges. Each publication is assigned a class that represents the topic/field of the publication. The node features are a boolean vector representing presence of a word from a vocabulary of 1433 words."
      ],
      "metadata": {
        "id": "STw8KBWLMD2B"
      }
    },
    {
      "cell_type": "code",
      "source": [
        "from torch_geometric.datasets import Planetoid\n",
        "dataset = Planetoid(\"cora\", name=\"Cora\")"
      ],
      "metadata": {
        "id": "m1R57ypkGT0E"
      },
      "execution_count": null,
      "outputs": []
    },
    {
      "cell_type": "code",
      "source": [
        "print(\"type of object:\", type(dataset))\n",
        "print(\"class hierarchy of the dataset:\", inspect.getmro(type(dataset)))\n",
        "\n",
        "print(\"number of graphs:\", len(dataset))\n",
        "print(\"number of classes:\", dataset.num_classes)\n",
        "print(\"number of features:\", dataset.num_features)\n",
        "print(\"number of node features:\", dataset.num_node_features)\n",
        "print(\"number of edge featres:\", dataset.num_edge_features)"
      ],
      "metadata": {
        "id": "SDXmOoBiGjlW"
      },
      "execution_count": null,
      "outputs": []
    },
    {
      "cell_type": "code",
      "source": [
        "print(dataset.data)\n",
        "print(\"type of object:\", type(dataset.data))"
      ],
      "metadata": {
        "id": "JvpgGO3PGmZ8"
      },
      "execution_count": null,
      "outputs": []
    },
    {
      "cell_type": "code",
      "source": [
        "data = dataset[0]\n",
        "print(\"type of object:\", type(data))"
      ],
      "metadata": {
        "id": "Fu5PLuIKGxyM"
      },
      "execution_count": null,
      "outputs": []
    },
    {
      "cell_type": "markdown",
      "source": [
        "### ENZYMES\n",
        "\n",
        "ENZYMES is a dataset of 600 enzymes (molecular machines inside our cells that faciliate specific chemical reactions). Enzymes are essentially proteins which in turn are large macromolecules (large graphs for us). The task is to classify each enzyme into one of the six enzyme categories."
      ],
      "metadata": {
        "id": "4lEimJN9MF2t"
      }
    },
    {
      "cell_type": "code",
      "source": [
        "from torch_geometric.datasets import TUDataset\n",
        "dataset = TUDataset(\"enzymes\", name=\"ENZYMES\")"
      ],
      "metadata": {
        "id": "Br5x-QpzMHgg"
      },
      "execution_count": null,
      "outputs": []
    },
    {
      "cell_type": "markdown",
      "source": [
        "1. How many graphs are in the dataset?\n",
        "2. How many classes are there?\n",
        "3. How many node features are there?\n",
        "4. How many edge features are there?"
      ],
      "metadata": {
        "id": "L00IesR6Mr1I"
      }
    },
    {
      "cell_type": "code",
      "source": [
        "### YOUR CODE BEGINS HERE\n",
        "\n",
        "### YOUR CODE ENDS HERE"
      ],
      "metadata": {
        "id": "NXEW8FiPMH3n"
      },
      "execution_count": null,
      "outputs": []
    },
    {
      "cell_type": "markdown",
      "source": [
        "5. What is the label of the 100th graph in the dataset?\n",
        "6. How many nodes and edges are present in the 25th graph?\n",
        "7. Are the edges directed or undirected?"
      ],
      "metadata": {
        "id": "_s_U9_S_MuLG"
      }
    },
    {
      "cell_type": "code",
      "source": [
        "### YOUR CODE BEGINS HERE\n",
        "\n",
        "### YOUR CODE ENDS HERE"
      ],
      "metadata": {
        "id": "0y175iz2M-ax"
      },
      "execution_count": null,
      "outputs": []
    },
    {
      "cell_type": "markdown",
      "source": [
        "# Minibatches and DataLoaders\n",
        "\n",
        "Neural networks are typially trained using minibatchs. Creating minibatches of graph data is relatively non-trivial. Minibatches are created by:\n",
        "- concatenating adjacency matrices diagonally (to create a sparse block diagonal matrix)\n",
        "- concatenating feature matrices in the node dimension into one gigantic feature matrix\n",
        "- concatenating target matrices in the node dimension into one gigantic target matrix\n",
        "\n",
        "$$$$\n",
        "\n",
        "$$\n",
        "\\mathbf{A} = \\begin{bmatrix} \\mathbf{A}_1 & & \\\\ & \\ddots & \\\\ & & \\mathbf{A}_n \\end{bmatrix}, \\mathbf{X} = \\begin{bmatrix} \\mathbf{X}_1 \\\\ \\vdots \\\\ \\mathbf{X}_n \\end{bmatrix}, \\mathbf{E} = \\begin{bmatrix} \\mathbf{E}_1 \\\\ \\vdots \\\\ \\mathbf{E}_n \\end{bmatrix}, \\mathbf{Y} = \\begin{bmatrix} \\mathbf{Y}_1 \\\\ \\vdots \\\\ \\mathbf{Y}_n \\end{bmatrix}\n",
        "$$\n",
        "\n",
        "$$$$\n",
        "\n",
        "In a nutshell, we represent a minibatch of graphs as one gigantic disconnected graph."
      ],
      "metadata": {
        "id": "9E9rQOA6VRZ_"
      }
    },
    {
      "cell_type": "markdown",
      "source": [
        "We're aware that `torch.utils.data.DataLoader` provides facilities to automatially batch samples. PyG also provides an equivalent class with the same functionality: [`torch_geometric.loader.DataLoader`](https://pytorch-geometric.readthedocs.io/en/latest/modules/loader.html#torch_geometric.loader.DataLoader).\n",
        "\n",
        "`torch_geometric.loader.DataLoader` automatically takes care of the minibatching process. The data loader returns a [`Batch`](https://pytorch-geometric.readthedocs.io/en/latest/modules/data.html#torch_geometric.data.Batch) object. This object provides additional attributes: `num_graphs` and `batch`. The `num_graphs` attribute gives the number of graphs in the batch. The `batch` attribute of shape `[num_nodes, batch_idx]` maps nodes in the gigantic disconnected graph to their original graph.\n",
        "\n",
        "$$\\text{num_graphs} = n$$\n",
        "\n",
        "$$\\text{batch} = [0, 0, \\ldots, 0, 1, 1, \\ldots, \\ldots, n - 1]^\\mathbf{T}$$\n"
      ],
      "metadata": {
        "id": "6u4nYwzZgK8E"
      }
    },
    {
      "cell_type": "code",
      "source": [
        "from torch_geometric.loader import DataLoader\n",
        "from torch_geometric.datasets import TUDataset\n",
        "dataset = TUDataset(\"enzymes\", name=\"ENZYMES\")\n",
        "\n",
        "dataset = dataset.shuffle()\n",
        "training_dataset = dataset[:500]\n",
        "validation_dataset = dataset[500:550]\n",
        "test_dataset = dataset[550:600]\n",
        "\n",
        "train_dataloader = DataLoader(training_dataset, batch_size=32, shuffle=True)\n",
        "\n",
        "for batch in train_dataloader:\n",
        "    print(type(batch))\n",
        "    print(\"class hierarchy of the dataset:\", inspect.getmro(type(batch)))\n",
        "    print()\n",
        "    print(batch.num_graphs)\n",
        "    print(batch.batch)\n",
        "    break"
      ],
      "metadata": {
        "id": "_gie30hyXSF5"
      },
      "execution_count": null,
      "outputs": []
    },
    {
      "cell_type": "markdown",
      "source": [
        "### Practice Problems\n",
        "1. Compute the mean and standard deviation of node feature vectors in the batch.\n",
        "2. Compute the mean of node feature vectors of each graph in the batch separately using [`torch.scatter_mean(node_features, data.batch, dim=?)`](https://pytorch-scatter.readthedocs.io/en/1.3.0/_modules/torch_scatter/mean.html)."
      ],
      "metadata": {
        "id": "N13phS2MaH7T"
      }
    },
    {
      "cell_type": "code",
      "source": [
        "batch = next(iter(train_dataloader))\n",
        "### YOUR CODE BEGINS HERE\n",
        "# Problem 1\n",
        "\n",
        "### YOUR CODE ENDS HERE"
      ],
      "metadata": {
        "id": "K_8jKcRWXf9J"
      },
      "execution_count": null,
      "outputs": []
    },
    {
      "cell_type": "code",
      "source": [
        "### YOUR CODE BEGINS HERE\n",
        "# Problem 2\n",
        "from torch_scatter import scatter_mean\n",
        "means = scatter_mean(batch.?, batch.?, dim=?)\n",
        "print(means)\n",
        "### YOUR CODE ENDS HERE"
      ],
      "metadata": {
        "id": "ndB8VXBLpqO1"
      },
      "execution_count": null,
      "outputs": []
    },
    {
      "cell_type": "markdown",
      "source": [
        "# Data Transforms\n",
        "\n",
        "The dataset classes accept three arguments that transform or filter data points. The transforms accept (original graph) and return an object (transformed graph) of type `torch_geometric.data.Data`.\n",
        "- `transform` : this transform is applied each time just before returning the data\n",
        "- `pre_transform` : this transform is applied on every data once initially\n",
        "- `pre_filter` : this function takes a `Data` object and returns whether it should be retained or thrown away; this is applied once initially\n"
      ],
      "metadata": {
        "id": "yIZ488cQamqi"
      }
    },
    {
      "cell_type": "markdown",
      "source": [
        "### Transforming ModelNet dataset\n",
        "\n",
        "ModelNet is a dataset of 4,899 3D objects from 10 categories (3,991 training samples and 908 test samples). `torch_geometric.datasets.ModelNet` off the shelf without any transformations is a supplies the objects as meshes. Each data object stores the positions of the vertices (in the `pos` attribute) and indices of verticies that make each face (in the `face` attribute).\n"
      ],
      "metadata": {
        "id": "_X8z40CpJWcb"
      }
    },
    {
      "cell_type": "code",
      "source": [
        "from torch_geometric.datasets import ModelNet\n",
        "dataset = ModelNet('modelnet', name='10', train=False, transform=None, pre_transform=None, pre_filter=None)"
      ],
      "metadata": {
        "id": "1PtxMXIus_Q1"
      },
      "execution_count": null,
      "outputs": []
    },
    {
      "cell_type": "code",
      "source": [
        "print(\"Dataset:\", dataset)\n",
        "print(\"Sample:\", dataset[0])"
      ],
      "metadata": {
        "id": "5lMrDRNS-aBs"
      },
      "execution_count": null,
      "outputs": []
    },
    {
      "cell_type": "code",
      "source": [
        "data = dataset[0]\n",
        "\n",
        "mesh = trimesh.Trimesh(vertices=data.pos, faces=data.face.T)\n",
        "scene = trimesh.scene.Scene()\n",
        "scene.add_geometry(mesh)\n",
        "scene.show()"
      ],
      "metadata": {
        "id": "OOxpf81kDfxe"
      },
      "execution_count": null,
      "outputs": []
    },
    {
      "cell_type": "markdown",
      "source": [
        "### Mesh to Point Ploud\n",
        "\n",
        "PyG provides several builtin data transforms to manipulate graphs, meshes and point clouds. If we require point clouds, we can sample points from the mesh using the [`torch_geometric.transforms.SamplePoints`](https://pytorch-geometric.readthedocs.io/en/latest/modules/transforms.html#torch_geometric.transforms.SamplePoints) transform."
      ],
      "metadata": {
        "id": "L6NRQHZiHa3W"
      }
    },
    {
      "cell_type": "code",
      "source": [
        "from torch_geometric.datasets import ModelNet\n",
        "dataset = ModelNet('modelnet', name='10', train=False, transform=torch_geometric.transforms.SamplePoints(num=1024))"
      ],
      "metadata": {
        "id": "B5rU2YoeEbZU"
      },
      "execution_count": null,
      "outputs": []
    },
    {
      "cell_type": "code",
      "source": [
        "print(dataset[0])"
      ],
      "metadata": {
        "id": "Z8Rwk6AiEtIZ"
      },
      "execution_count": null,
      "outputs": []
    },
    {
      "cell_type": "markdown",
      "source": [
        "### Practice Problem: Mesh to Graph\n",
        "\n",
        "We require to convert meshes to graphs to train graph neural networks using PyG. Transform the dataset to supply graphs instead of meshes using [torch_geometric.transforms.FaceToEdge](https://pytorch-geometric.readthedocs.io/en/latest/modules/transforms.html#torch_geometric.transforms.FaceToEdge) transform."
      ],
      "metadata": {
        "id": "Xp5DIbVPIx-5"
      }
    },
    {
      "cell_type": "code",
      "source": [
        "### YOUR CODE BEGINS HERE\n",
        "dataset =\n",
        "### YOUR CODE ENDS HERE"
      ],
      "metadata": {
        "id": "HtlQP5S5EoeG"
      },
      "execution_count": null,
      "outputs": []
    },
    {
      "cell_type": "code",
      "source": [
        "print(dataset[0])"
      ],
      "metadata": {
        "id": "BzjekCftC5Az"
      },
      "execution_count": null,
      "outputs": []
    },
    {
      "cell_type": "markdown",
      "source": [
        "# Implementing GCN and EdgeConv\n",
        "\n",
        "Implement [GCNConv](https://pytorch-geometric.readthedocs.io/en/latest/modules/nn.html#torch_geometric.nn.conv.GCNConv) layer from scratch by reading [Creating Message Passing Networks](https://pytorch-geometric.readthedocs.io/en/latest/notes/create_gnn.html)."
      ],
      "metadata": {
        "id": "EImA3j61-Gdu"
      }
    },
    {
      "cell_type": "code",
      "source": [
        "from torch_geometric.nn import MessagePassing\n",
        "\n",
        "class GCNConv(MessagePassing):\n",
        "    pass"
      ],
      "metadata": {
        "id": "hniK7-Zr-YmZ"
      },
      "execution_count": null,
      "outputs": []
    },
    {
      "cell_type": "markdown",
      "source": [
        "Implement [EdgeConv](https://pytorch-geometric.readthedocs.io/en/latest/modules/nn.html#torch_geometric.nn.conv.EdgeConv) layer from scratch by reading [Creating Message Passing Networks](https://pytorch-geometric.readthedocs.io/en/latest/notes/create_gnn.html)."
      ],
      "metadata": {
        "id": "DD9eWgsVdRMz"
      }
    },
    {
      "cell_type": "code",
      "source": [
        "class EdgeConv(MessagePassing):\n",
        "  pass"
      ],
      "metadata": {
        "id": "CsGtljwodhlW"
      },
      "execution_count": null,
      "outputs": []
    },
    {
      "cell_type": "markdown",
      "source": [
        "# Node classification on Cora\n",
        "\n",
        "This dataset consists of a single graph where nodes are scientific publications. There are 2708 publications and 5429 edges. Each publication is assigned a class that represents the topic/field of the publication. The node features are a boolean vector representing presence of a word from a vocabulary of 1433 words.\n",
        "\n",
        "**Problem Statement:**\n",
        "The task here is to classify every scientific publication (node) into one of the seven topics/fields (class). During training, only classes of certain nodes are used. The predictions for the remaining nodes are used for validation and testing. The dataset provides the train, validation and test masks. \n",
        "\n",
        "![Cora Visualization](https://production-media.paperswithcode.com/datasets/Cora-0000000700-ce1c5ec7_LD7pZnT.jpg)"
      ],
      "metadata": {
        "id": "7raPZ1hkTbTE"
      }
    },
    {
      "cell_type": "code",
      "source": [
        "dataset = Planetoid(root=\"cora\", name= \"Cora\")"
      ],
      "metadata": {
        "id": "MfMdGxvwTkO1"
      },
      "execution_count": null,
      "outputs": []
    },
    {
      "cell_type": "code",
      "source": [
        "print(\"number of graphs:\", len(dataset))\n",
        "print(\"number of classes:\", dataset.num_classes)\n",
        "print(\"number of features:\", dataset.num_features)\n",
        "print(\"number of node features:\", dataset.num_node_features)\n",
        "print(\"number of edge featres:\", dataset.num_edge_features)"
      ],
      "metadata": {
        "id": "72mWsg2tT1yY"
      },
      "execution_count": null,
      "outputs": []
    },
    {
      "cell_type": "code",
      "source": [
        "print(dataset.data)"
      ],
      "metadata": {
        "id": "5B6U6G7IT_oC"
      },
      "execution_count": null,
      "outputs": []
    },
    {
      "cell_type": "code",
      "source": [
        "class CoraNet(torch.nn.Module):\n",
        "    def __init__(self):\n",
        "        super().__init__()\n",
        "        self.conv1 = GCNConv(dataset.num_features, 32)\n",
        "\n",
        "        ### YOUR CODE BEGINS HERE\n",
        "        # Add a SAGEConv layer with 'max' as the aggregation function\n",
        "        self.conv2 = \n",
        "\n",
        "        # Add few more layers if you wish (more convs, dropout, etc) but you should output 'dataset.num_classes' logits at the end\n",
        "        ### YOUR CODE ENDS HERE\n",
        "\n",
        "    def forward(self, data):\n",
        "        x, edge_index = data.x, data.edge_index\n",
        "        x = self.conv1(x, edge_index)\n",
        "        \n",
        "        ### YOUR CODE BEGINS HERE\n",
        "        # relu -> conv2 -> ...\n",
        "        \n",
        "        ### YOUR CODE ENDS HERE\n",
        "\n",
        "        return F.log_softmax(x, dim=1)"
      ],
      "metadata": {
        "id": "FDo04iMwUGTv"
      },
      "execution_count": null,
      "outputs": []
    },
    {
      "cell_type": "code",
      "source": [
        "def train(model, data, optimizer, criterion):\n",
        "    model.train()\n",
        "    ### YOUR CODE BEGINS HERE\n",
        "    # 1. zero existing gradients\n",
        "    # 2. forward the graph\n",
        "    # 3. compute the loss (use output[data.train_mask] and data.y[data.train_mask] to compute loss on training nodes only)\n",
        "    # 4. backprop the loss\n",
        "    # 5. update the weights\n",
        "\n",
        "    ### YOUR CODE ENDS HERE\n",
        "    return loss.item()\n",
        "\n",
        "def test(model, data, mask, criterion):\n",
        "    model.eval()\n",
        "    ### YOUR CODE BEGINS HERE\n",
        "    # 1. forward the graph\n",
        "    # 2. find labels for the nodes in the mask (output[mask]?)\n",
        "\n",
        "    ### YOUR CODE ENDS HERE\n",
        "    return (predicted_class == data.y[mask]).sum()/ mask.sum()"
      ],
      "metadata": {
        "id": "3TFKSiXTUQz6"
      },
      "execution_count": null,
      "outputs": []
    },
    {
      "cell_type": "code",
      "source": [
        "model = CoraNet().to(device=device)\n",
        "data = dataset.data.to(device=device)\n",
        "\n",
        "criterion = nn.NLLLoss()\n",
        "optimizer = torch.optim.Adam(model.parameters(), lr=1e-3)\n",
        "\n",
        "best_val_accuracy = 0\n",
        "for epoch in range(50):\n",
        "  train_loss = train(model, data, optimizer, criterion)  \n",
        "  val_accuracy = test(model, data, data.val_mask, criterion)\n",
        "\n",
        "  if val_accuracy > best_val_accuracy:\n",
        "    print(\"new best model\")\n",
        "    torch.save(model.state_dict(), \"best_cora_model.pth\")\n",
        "    best_val_accuracy = val_accuracy\n",
        "\n",
        "  print(\"[%d] training loss: %.3f\" % (epoch + 1, train_loss))\n",
        "  print(\"[%d] validation >> accuracy: %.2f%%\" % (epoch + 1, val_accuracy * 100))\n",
        "  print()"
      ],
      "metadata": {
        "id": "pkZY-BUXUWjM"
      },
      "execution_count": null,
      "outputs": []
    },
    {
      "cell_type": "code",
      "source": [
        "model.load_state_dict(torch.load(\"best_cora_model.pth\"))\n",
        "\n",
        "test_accuracy = test(model, data, data.test_mask, criterion)\n",
        "print(\"test accuracy:\", test_accuracy.item() * 100)"
      ],
      "metadata": {
        "id": "AOGxJAtgbDUh"
      },
      "execution_count": null,
      "outputs": []
    },
    {
      "cell_type": "markdown",
      "source": [
        "Visit [Node Classification on Cora Leaderboard](https://paperswithcode.com/sota/node-classification-on-cora). Compare your model's perform against the top performing models.\n",
        "\n",
        "Using [PyG documentation](https://pytorch-geometric.readthedocs.io/en/latest/modules/nn.html#convolutional-layers), alter the model architecture to surpass 75%. You don't need to understand the details thoroughly; use the layers as black boxes."
      ],
      "metadata": {
        "id": "gklFA4nAdcvW"
      }
    }
  ]
}